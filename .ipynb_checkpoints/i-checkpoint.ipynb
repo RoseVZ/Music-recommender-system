{
 "cells": [
  {
   "cell_type": "markdown",
   "metadata": {
    "colab_type": "text",
    "id": "view-in-github"
   },
   "source": [
    "<a href=\"https://colab.research.google.com/github/RoseVZ/recommender-system/blob/main/Recommender1.ipynb\" target=\"_parent\"><img src=\"https://colab.research.google.com/assets/colab-badge.svg\" alt=\"Open In Colab\"/></a>"
   ]
  },
  {
   "cell_type": "markdown",
   "metadata": {
    "id": "GaKIbznOHkbG"
   },
   "source": [
    "Imports\n"
   ]
  },
  {
   "cell_type": "code",
   "execution_count": 86,
   "metadata": {
    "id": "mSnvyDTdHoy9"
   },
   "outputs": [],
   "source": [
    "import pandas as pd\n",
    "\n",
    "import pandas as pd\n",
    "import numpy as np\n"
   ]
  },
  {
   "cell_type": "markdown",
   "metadata": {
    "id": "O_P6BqiuIB4u"
   },
   "source": [
    "Importing the dataset"
   ]
  },
  {
   "cell_type": "code",
   "execution_count": 87,
   "metadata": {
    "id": "8rnyYK11I5D0"
   },
   "outputs": [],
   "source": [
    "dataset=pd.read_csv('datacomp2 2.csv',encoding = 'unicode_escape')"
   ]
  },
  {
   "cell_type": "code",
   "execution_count": 88,
   "metadata": {
    "colab": {
     "base_uri": "https://localhost:8080/",
     "height": 669
    },
    "id": "3xFtlnoPJGTP",
    "outputId": "628c093e-a64d-40ad-b415-292616da5c18"
   },
   "outputs": [
    {
     "data": {
      "text/html": [
       "<div>\n",
       "<style scoped>\n",
       "    .dataframe tbody tr th:only-of-type {\n",
       "        vertical-align: middle;\n",
       "    }\n",
       "\n",
       "    .dataframe tbody tr th {\n",
       "        vertical-align: top;\n",
       "    }\n",
       "\n",
       "    .dataframe thead th {\n",
       "        text-align: right;\n",
       "    }\n",
       "</style>\n",
       "<table border=\"1\" class=\"dataframe\">\n",
       "  <thead>\n",
       "    <tr style=\"text-align: right;\">\n",
       "      <th></th>\n",
       "      <th>aTitle</th>\n",
       "      <th>Artist</th>\n",
       "      <th>Genres</th>\n",
       "      <th>Id</th>\n",
       "    </tr>\n",
       "  </thead>\n",
       "  <tbody>\n",
       "    <tr>\n",
       "      <th>0</th>\n",
       "      <td>Dance Monkey</td>\n",
       "      <td>Tones and I</td>\n",
       "      <td>['pop']</td>\n",
       "      <td>0</td>\n",
       "    </tr>\n",
       "    <tr>\n",
       "      <th>1</th>\n",
       "      <td>ROXANNE</td>\n",
       "      <td>Arizona Zervas</td>\n",
       "      <td>['pop','rap']</td>\n",
       "      <td>1</td>\n",
       "    </tr>\n",
       "    <tr>\n",
       "      <th>2</th>\n",
       "      <td>Tusa</td>\n",
       "      <td>KAROL G</td>\n",
       "      <td>['latin','trap']</td>\n",
       "      <td>2</td>\n",
       "    </tr>\n",
       "    <tr>\n",
       "      <th>3</th>\n",
       "      <td>Circles</td>\n",
       "      <td>Post Malone</td>\n",
       "      <td>['rap']</td>\n",
       "      <td>3</td>\n",
       "    </tr>\n",
       "    <tr>\n",
       "      <th>4</th>\n",
       "      <td>Memories</td>\n",
       "      <td>Maroon 5</td>\n",
       "      <td>['pop','rock']</td>\n",
       "      <td>4</td>\n",
       "    </tr>\n",
       "    <tr>\n",
       "      <th>5</th>\n",
       "      <td>Falling</td>\n",
       "      <td>Trevor Daniel</td>\n",
       "      <td>['rap' , 'pop', 'r&amp;b']</td>\n",
       "      <td>5</td>\n",
       "    </tr>\n",
       "    <tr>\n",
       "      <th>6</th>\n",
       "      <td>Don't Start Now</td>\n",
       "      <td>Dua Lipa</td>\n",
       "      <td>['pop', 'dance']</td>\n",
       "      <td>6</td>\n",
       "    </tr>\n",
       "    <tr>\n",
       "      <th>7</th>\n",
       "      <td>RITMO (Bad Boys For Life)</td>\n",
       "      <td>Black Eyed Peas</td>\n",
       "      <td>['pop','dance']</td>\n",
       "      <td>7</td>\n",
       "    </tr>\n",
       "    <tr>\n",
       "      <th>8</th>\n",
       "      <td>SeÃ±orita</td>\n",
       "      <td>Shawn Mendes</td>\n",
       "      <td>['pop' , 'dance']</td>\n",
       "      <td>8</td>\n",
       "    </tr>\n",
       "    <tr>\n",
       "      <th>9</th>\n",
       "      <td>Blinding Lights</td>\n",
       "      <td>The Weeknd</td>\n",
       "      <td>['pop','r&amp;b']</td>\n",
       "      <td>9</td>\n",
       "    </tr>\n",
       "    <tr>\n",
       "      <th>10</th>\n",
       "      <td>bad guy</td>\n",
       "      <td>Billie Eilish</td>\n",
       "      <td>['pop', 'electropop']</td>\n",
       "      <td>10</td>\n",
       "    </tr>\n",
       "    <tr>\n",
       "      <th>11</th>\n",
       "      <td>everything I wanted</td>\n",
       "      <td>Billie Eilish</td>\n",
       "      <td>['pop', 'electropop']</td>\n",
       "      <td>11</td>\n",
       "    </tr>\n",
       "    <tr>\n",
       "      <th>12</th>\n",
       "      <td>Adore You</td>\n",
       "      <td>Harry Styles</td>\n",
       "      <td>['pop']</td>\n",
       "      <td>12</td>\n",
       "    </tr>\n",
       "    <tr>\n",
       "      <th>13</th>\n",
       "      <td>Lose You To Love Me</td>\n",
       "      <td>Selena Gomez</td>\n",
       "      <td>['pop' , 'dance']</td>\n",
       "      <td>13</td>\n",
       "    </tr>\n",
       "    <tr>\n",
       "      <th>14</th>\n",
       "      <td>Watermelon Sugar</td>\n",
       "      <td>Harry Styles</td>\n",
       "      <td>['pop']</td>\n",
       "      <td>14</td>\n",
       "    </tr>\n",
       "    <tr>\n",
       "      <th>15</th>\n",
       "      <td>Old Town Road - Remix</td>\n",
       "      <td>Lil Nas X</td>\n",
       "      <td>['lgbtq','hip pop','rap','pop']</td>\n",
       "      <td>15</td>\n",
       "    </tr>\n",
       "    <tr>\n",
       "      <th>16</th>\n",
       "      <td>Sucker</td>\n",
       "      <td>Jonas Brothers</td>\n",
       "      <td>['pop','boy band','dance', 'pop']</td>\n",
       "      <td>16</td>\n",
       "    </tr>\n",
       "    <tr>\n",
       "      <th>17</th>\n",
       "      <td>Psycho</td>\n",
       "      <td>Red Velvet</td>\n",
       "      <td>['kpop','girl band']</td>\n",
       "      <td>17</td>\n",
       "    </tr>\n",
       "    <tr>\n",
       "      <th>18</th>\n",
       "      <td>Bohemian Rhapsody</td>\n",
       "      <td>Queen</td>\n",
       "      <td>['rock','classic']</td>\n",
       "      <td>18</td>\n",
       "    </tr>\n",
       "    <tr>\n",
       "      <th>19</th>\n",
       "      <td>Believer</td>\n",
       "      <td>Imagine Dragons</td>\n",
       "      <td>['modern','rock', 'pop']</td>\n",
       "      <td>19</td>\n",
       "    </tr>\n",
       "  </tbody>\n",
       "</table>\n",
       "</div>"
      ],
      "text/plain": [
       "                       aTitle           Artist  \\\n",
       "0                Dance Monkey      Tones and I   \n",
       "1                     ROXANNE   Arizona Zervas   \n",
       "2                        Tusa          KAROL G   \n",
       "3                     Circles      Post Malone   \n",
       "4                    Memories         Maroon 5   \n",
       "5                     Falling    Trevor Daniel   \n",
       "6             Don't Start Now         Dua Lipa   \n",
       "7   RITMO (Bad Boys For Life)  Black Eyed Peas   \n",
       "8                   SeÃ±orita     Shawn Mendes   \n",
       "9             Blinding Lights       The Weeknd   \n",
       "10                    bad guy    Billie Eilish   \n",
       "11        everything I wanted    Billie Eilish   \n",
       "12                  Adore You     Harry Styles   \n",
       "13        Lose You To Love Me     Selena Gomez   \n",
       "14           Watermelon Sugar     Harry Styles   \n",
       "15      Old Town Road - Remix        Lil Nas X   \n",
       "16                     Sucker   Jonas Brothers   \n",
       "17                     Psycho       Red Velvet   \n",
       "18          Bohemian Rhapsody            Queen   \n",
       "19                   Believer  Imagine Dragons   \n",
       "\n",
       "                               Genres  Id  \n",
       "0                             ['pop']   0  \n",
       "1                       ['pop','rap']   1  \n",
       "2                    ['latin','trap']   2  \n",
       "3                             ['rap']   3  \n",
       "4                      ['pop','rock']   4  \n",
       "5              ['rap' , 'pop', 'r&b']   5  \n",
       "6                    ['pop', 'dance']   6  \n",
       "7                     ['pop','dance']   7  \n",
       "8                   ['pop' , 'dance']   8  \n",
       "9                       ['pop','r&b']   9  \n",
       "10              ['pop', 'electropop']  10  \n",
       "11              ['pop', 'electropop']  11  \n",
       "12                            ['pop']  12  \n",
       "13                  ['pop' , 'dance']  13  \n",
       "14                            ['pop']  14  \n",
       "15    ['lgbtq','hip pop','rap','pop']  15  \n",
       "16  ['pop','boy band','dance', 'pop']  16  \n",
       "17               ['kpop','girl band']  17  \n",
       "18                 ['rock','classic']  18  \n",
       "19           ['modern','rock', 'pop']  19  "
      ]
     },
     "execution_count": 88,
     "metadata": {},
     "output_type": "execute_result"
    }
   ],
   "source": [
    "dataset.head(20)"
   ]
  },
  {
   "cell_type": "code",
   "execution_count": 89,
   "metadata": {
    "colab": {
     "base_uri": "https://localhost:8080/"
    },
    "id": "NnksX1YtJmZf",
    "outputId": "b22ebde9-eb65-4f8a-ac7b-ad0a752ff9db"
   },
   "outputs": [
    {
     "name": "stdout",
     "output_type": "stream",
     "text": [
      "<class 'pandas.core.frame.DataFrame'>\n",
      "RangeIndex: 20 entries, 0 to 19\n",
      "Data columns (total 4 columns):\n",
      " #   Column  Non-Null Count  Dtype \n",
      "---  ------  --------------  ----- \n",
      " 0   aTitle  20 non-null     object\n",
      " 1   Artist  20 non-null     object\n",
      " 2   Genres  20 non-null     object\n",
      " 3   Id      20 non-null     int64 \n",
      "dtypes: int64(1), object(3)\n",
      "memory usage: 768.0+ bytes\n"
     ]
    }
   ],
   "source": [
    "dataset.info()"
   ]
  },
  {
   "cell_type": "code",
   "execution_count": 90,
   "metadata": {
    "colab": {
     "base_uri": "https://localhost:8080/"
    },
    "id": "t6C1k6-CJwh9",
    "outputId": "f1b5778f-5540-4b75-9285-102220fb0fd4"
   },
   "outputs": [
    {
     "data": {
      "text/plain": [
       "(20, 4)"
      ]
     },
     "execution_count": 90,
     "metadata": {},
     "output_type": "execute_result"
    }
   ],
   "source": [
    "dataset.shape"
   ]
  },
  {
   "cell_type": "code",
   "execution_count": 91,
   "metadata": {
    "colab": {
     "base_uri": "https://localhost:8080/"
    },
    "id": "n8ecJjsynUTS",
    "outputId": "24dda072-a355-4f1d-ad12-d3c57110a15b"
   },
   "outputs": [
    {
     "data": {
      "text/plain": [
       "array([\"['pop']\", \"['pop','rap']\", \"['latin','trap']\", \"['rap']\",\n",
       "       \"['pop','rock']\", \"['rap' , 'pop', 'r&b']\", \"['pop', 'dance']\",\n",
       "       \"['pop','dance']\", \"['pop' , 'dance']\", \"['pop','r&b']\",\n",
       "       \"['pop', 'electropop']\", \"['lgbtq','hip pop','rap','pop']\",\n",
       "       \"['pop','boy band','dance', 'pop']\", \"['kpop','girl band']\",\n",
       "       \"['rock','classic']\", \"['modern','rock', 'pop']\"], dtype=object)"
      ]
     },
     "execution_count": 91,
     "metadata": {},
     "output_type": "execute_result"
    }
   ],
   "source": [
    "dataset.Genres.unique()"
   ]
  },
  {
   "cell_type": "code",
   "execution_count": 92,
   "metadata": {
    "colab": {
     "base_uri": "https://localhost:8080/"
    },
    "id": "GYSBRQz4pV50",
    "outputId": "ef031fc3-8121-4b2b-d814-16339d990362"
   },
   "outputs": [
    {
     "data": {
      "text/plain": [
       "0     False\n",
       "1     False\n",
       "2     False\n",
       "3     False\n",
       "4     False\n",
       "5     False\n",
       "6     False\n",
       "7     False\n",
       "8     False\n",
       "9     False\n",
       "10    False\n",
       "11    False\n",
       "12    False\n",
       "13    False\n",
       "14    False\n",
       "15    False\n",
       "16    False\n",
       "17    False\n",
       "18    False\n",
       "19    False\n",
       "Name: Genres, dtype: bool"
      ]
     },
     "execution_count": 92,
     "metadata": {},
     "output_type": "execute_result"
    }
   ],
   "source": [
    "pd.isnull(dataset['Genres'])"
   ]
  },
  {
   "cell_type": "code",
   "execution_count": 93,
   "metadata": {
    "colab": {
     "base_uri": "https://localhost:8080/",
     "height": 669
    },
    "id": "94m_bgtFQZBR",
    "outputId": "e692f383-4812-4787-f2e4-3c4cea7e94a0"
   },
   "outputs": [
    {
     "data": {
      "text/html": [
       "<div>\n",
       "<style scoped>\n",
       "    .dataframe tbody tr th:only-of-type {\n",
       "        vertical-align: middle;\n",
       "    }\n",
       "\n",
       "    .dataframe tbody tr th {\n",
       "        vertical-align: top;\n",
       "    }\n",
       "\n",
       "    .dataframe thead th {\n",
       "        text-align: right;\n",
       "    }\n",
       "</style>\n",
       "<table border=\"1\" class=\"dataframe\">\n",
       "  <thead>\n",
       "    <tr style=\"text-align: right;\">\n",
       "      <th></th>\n",
       "      <th>Artist</th>\n",
       "    </tr>\n",
       "  </thead>\n",
       "  <tbody>\n",
       "    <tr>\n",
       "      <th>0</th>\n",
       "      <td>Tones and I</td>\n",
       "    </tr>\n",
       "    <tr>\n",
       "      <th>1</th>\n",
       "      <td>Arizona Zervas</td>\n",
       "    </tr>\n",
       "    <tr>\n",
       "      <th>2</th>\n",
       "      <td>KAROL G</td>\n",
       "    </tr>\n",
       "    <tr>\n",
       "      <th>3</th>\n",
       "      <td>Post Malone</td>\n",
       "    </tr>\n",
       "    <tr>\n",
       "      <th>4</th>\n",
       "      <td>Maroon 5</td>\n",
       "    </tr>\n",
       "    <tr>\n",
       "      <th>5</th>\n",
       "      <td>Trevor Daniel</td>\n",
       "    </tr>\n",
       "    <tr>\n",
       "      <th>6</th>\n",
       "      <td>Dua Lipa</td>\n",
       "    </tr>\n",
       "    <tr>\n",
       "      <th>7</th>\n",
       "      <td>Black Eyed Peas</td>\n",
       "    </tr>\n",
       "    <tr>\n",
       "      <th>8</th>\n",
       "      <td>Shawn Mendes</td>\n",
       "    </tr>\n",
       "    <tr>\n",
       "      <th>9</th>\n",
       "      <td>The Weeknd</td>\n",
       "    </tr>\n",
       "    <tr>\n",
       "      <th>10</th>\n",
       "      <td>Billie Eilish</td>\n",
       "    </tr>\n",
       "    <tr>\n",
       "      <th>11</th>\n",
       "      <td>Billie Eilish</td>\n",
       "    </tr>\n",
       "    <tr>\n",
       "      <th>12</th>\n",
       "      <td>Harry Styles</td>\n",
       "    </tr>\n",
       "    <tr>\n",
       "      <th>13</th>\n",
       "      <td>Selena Gomez</td>\n",
       "    </tr>\n",
       "    <tr>\n",
       "      <th>14</th>\n",
       "      <td>Harry Styles</td>\n",
       "    </tr>\n",
       "    <tr>\n",
       "      <th>15</th>\n",
       "      <td>Lil Nas X</td>\n",
       "    </tr>\n",
       "    <tr>\n",
       "      <th>16</th>\n",
       "      <td>Jonas Brothers</td>\n",
       "    </tr>\n",
       "    <tr>\n",
       "      <th>17</th>\n",
       "      <td>Red Velvet</td>\n",
       "    </tr>\n",
       "    <tr>\n",
       "      <th>18</th>\n",
       "      <td>Queen</td>\n",
       "    </tr>\n",
       "    <tr>\n",
       "      <th>19</th>\n",
       "      <td>Imagine Dragons</td>\n",
       "    </tr>\n",
       "  </tbody>\n",
       "</table>\n",
       "</div>"
      ],
      "text/plain": [
       "             Artist\n",
       "0       Tones and I\n",
       "1    Arizona Zervas\n",
       "2           KAROL G\n",
       "3       Post Malone\n",
       "4          Maroon 5\n",
       "5     Trevor Daniel\n",
       "6          Dua Lipa\n",
       "7   Black Eyed Peas\n",
       "8      Shawn Mendes\n",
       "9        The Weeknd\n",
       "10    Billie Eilish\n",
       "11    Billie Eilish\n",
       "12     Harry Styles\n",
       "13     Selena Gomez\n",
       "14     Harry Styles\n",
       "15        Lil Nas X\n",
       "16   Jonas Brothers\n",
       "17       Red Velvet\n",
       "18            Queen\n",
       "19  Imagine Dragons"
      ]
     },
     "execution_count": 93,
     "metadata": {},
     "output_type": "execute_result"
    }
   ],
   "source": [
    "dataset[['Artist']]"
   ]
  },
  {
   "cell_type": "code",
   "execution_count": 94,
   "metadata": {
    "id": "00YQPIAEptGy"
   },
   "outputs": [],
   "source": [
    "from ast import literal_eval\n",
    "\n",
    "features = ['Genres']\n",
    "for feature in features:\n",
    "    dataset[feature] = dataset[feature].apply(literal_eval)"
   ]
  },
  {
   "cell_type": "code",
   "execution_count": 95,
   "metadata": {
    "colab": {
     "base_uri": "https://localhost:8080/"
    },
    "id": "qQNb8mkCEvck",
    "outputId": "8f37d160-05aa-4709-de73-be7741a48f48"
   },
   "outputs": [
    {
     "data": {
      "text/plain": [
       "0                           [pop]\n",
       "1                      [pop, rap]\n",
       "2                   [latin, trap]\n",
       "3                           [rap]\n",
       "4                     [pop, rock]\n",
       "5                 [rap, pop, r&b]\n",
       "6                    [pop, dance]\n",
       "7                    [pop, dance]\n",
       "8                    [pop, dance]\n",
       "9                      [pop, r&b]\n",
       "10              [pop, electropop]\n",
       "11              [pop, electropop]\n",
       "12                          [pop]\n",
       "13                   [pop, dance]\n",
       "14                          [pop]\n",
       "15     [lgbtq, hip pop, rap, pop]\n",
       "16    [pop, boy band, dance, pop]\n",
       "17              [kpop, girl band]\n",
       "18                [rock, classic]\n",
       "Name: Genres, dtype: object"
      ]
     },
     "execution_count": 95,
     "metadata": {},
     "output_type": "execute_result"
    }
   ],
   "source": [
    "dataset.Genres.head(19)"
   ]
  },
  {
   "cell_type": "code",
   "execution_count": 96,
   "metadata": {
    "id": "7lGtH6T9YFaU"
   },
   "outputs": [],
   "source": [
    "\n",
    "def clean_data(x):\n",
    "      if isinstance(x, list):\n",
    "          return [str.lower(i.replace(\" \", \"\")) for i in x]\n",
    "      else:\n",
    "\n",
    "          if isinstance(x, str):\n",
    "              return str.lower(x.replace(\" \", \"\"))\n",
    "          else:\n",
    "              return ''\n"
   ]
  },
  {
   "cell_type": "code",
   "execution_count": 97,
   "metadata": {
    "id": "ErDcJU9idnhr"
   },
   "outputs": [],
   "source": [
    "features = ['Artist','Genres']\n",
    "\n",
    "for feature in features:\n",
    "    dataset[feature] = dataset[feature].apply(clean_data)"
   ]
  },
  {
   "cell_type": "code",
   "execution_count": 98,
   "metadata": {
    "id": "Z1btPh0HdwFc"
   },
   "outputs": [],
   "source": [
    "def soup(x):\n",
    "    return ' '.join(x['Genres']) + ' ' + x['Artist']"
   ]
  },
  {
   "cell_type": "code",
   "execution_count": 99,
   "metadata": {
    "colab": {
     "base_uri": "https://localhost:8080/",
     "height": 669
    },
    "id": "Uvywqs_6eGlT",
    "outputId": "7fce0331-769a-4d36-a44f-6b9c25c6460b"
   },
   "outputs": [
    {
     "data": {
      "text/html": [
       "<div>\n",
       "<style scoped>\n",
       "    .dataframe tbody tr th:only-of-type {\n",
       "        vertical-align: middle;\n",
       "    }\n",
       "\n",
       "    .dataframe tbody tr th {\n",
       "        vertical-align: top;\n",
       "    }\n",
       "\n",
       "    .dataframe thead th {\n",
       "        text-align: right;\n",
       "    }\n",
       "</style>\n",
       "<table border=\"1\" class=\"dataframe\">\n",
       "  <thead>\n",
       "    <tr style=\"text-align: right;\">\n",
       "      <th></th>\n",
       "      <th>soup</th>\n",
       "    </tr>\n",
       "  </thead>\n",
       "  <tbody>\n",
       "    <tr>\n",
       "      <th>0</th>\n",
       "      <td>pop tonesandi</td>\n",
       "    </tr>\n",
       "    <tr>\n",
       "      <th>1</th>\n",
       "      <td>pop rap arizonazervas</td>\n",
       "    </tr>\n",
       "    <tr>\n",
       "      <th>2</th>\n",
       "      <td>latin trap karolg</td>\n",
       "    </tr>\n",
       "    <tr>\n",
       "      <th>3</th>\n",
       "      <td>rap postmalone</td>\n",
       "    </tr>\n",
       "    <tr>\n",
       "      <th>4</th>\n",
       "      <td>pop rock maroon5</td>\n",
       "    </tr>\n",
       "    <tr>\n",
       "      <th>5</th>\n",
       "      <td>rap pop r&amp;b trevordaniel</td>\n",
       "    </tr>\n",
       "    <tr>\n",
       "      <th>6</th>\n",
       "      <td>pop dance dualipa</td>\n",
       "    </tr>\n",
       "    <tr>\n",
       "      <th>7</th>\n",
       "      <td>pop dance blackeyedpeas</td>\n",
       "    </tr>\n",
       "    <tr>\n",
       "      <th>8</th>\n",
       "      <td>pop dance shawnmendes</td>\n",
       "    </tr>\n",
       "    <tr>\n",
       "      <th>9</th>\n",
       "      <td>pop r&amp;b theweeknd</td>\n",
       "    </tr>\n",
       "    <tr>\n",
       "      <th>10</th>\n",
       "      <td>pop electropop billieeilish</td>\n",
       "    </tr>\n",
       "    <tr>\n",
       "      <th>11</th>\n",
       "      <td>pop electropop billieeilish</td>\n",
       "    </tr>\n",
       "    <tr>\n",
       "      <th>12</th>\n",
       "      <td>pop harrystyles</td>\n",
       "    </tr>\n",
       "    <tr>\n",
       "      <th>13</th>\n",
       "      <td>pop dance selenagomez</td>\n",
       "    </tr>\n",
       "    <tr>\n",
       "      <th>14</th>\n",
       "      <td>pop harrystyles</td>\n",
       "    </tr>\n",
       "    <tr>\n",
       "      <th>15</th>\n",
       "      <td>lgbtq hippop rap pop lilnasx</td>\n",
       "    </tr>\n",
       "    <tr>\n",
       "      <th>16</th>\n",
       "      <td>pop boyband dance pop jonasbrothers</td>\n",
       "    </tr>\n",
       "    <tr>\n",
       "      <th>17</th>\n",
       "      <td>kpop girlband redvelvet</td>\n",
       "    </tr>\n",
       "    <tr>\n",
       "      <th>18</th>\n",
       "      <td>rock classic queen</td>\n",
       "    </tr>\n",
       "    <tr>\n",
       "      <th>19</th>\n",
       "      <td>modern rock pop imaginedragons</td>\n",
       "    </tr>\n",
       "  </tbody>\n",
       "</table>\n",
       "</div>"
      ],
      "text/plain": [
       "                                   soup\n",
       "0                         pop tonesandi\n",
       "1                 pop rap arizonazervas\n",
       "2                     latin trap karolg\n",
       "3                        rap postmalone\n",
       "4                      pop rock maroon5\n",
       "5              rap pop r&b trevordaniel\n",
       "6                     pop dance dualipa\n",
       "7               pop dance blackeyedpeas\n",
       "8                 pop dance shawnmendes\n",
       "9                     pop r&b theweeknd\n",
       "10          pop electropop billieeilish\n",
       "11          pop electropop billieeilish\n",
       "12                      pop harrystyles\n",
       "13                pop dance selenagomez\n",
       "14                      pop harrystyles\n",
       "15         lgbtq hippop rap pop lilnasx\n",
       "16  pop boyband dance pop jonasbrothers\n",
       "17              kpop girlband redvelvet\n",
       "18                   rock classic queen\n",
       "19       modern rock pop imaginedragons"
      ]
     },
     "execution_count": 99,
     "metadata": {},
     "output_type": "execute_result"
    }
   ],
   "source": [
    "dataset['soup'] = dataset.apply(soup, axis=1)\n",
    "dataset[['soup']]"
   ]
  },
  {
   "cell_type": "markdown",
   "metadata": {
    "id": "iiiwQMnPe1kU"
   },
   "source": [
    "Count Matrix"
   ]
  },
  {
   "cell_type": "code",
   "execution_count": 100,
   "metadata": {
    "id": "I75K_MUYe2-d"
   },
   "outputs": [],
   "source": [
    "from sklearn.feature_extraction.text import CountVectorizer\n",
    "\n",
    "count = CountVectorizer(stop_words=None)\n",
    "count_matrix = count.fit_transform(dataset['soup'])"
   ]
  },
  {
   "cell_type": "code",
   "execution_count": 101,
   "metadata": {
    "colab": {
     "base_uri": "https://localhost:8080/"
    },
    "id": "AAEdSMlae1OU",
    "outputId": "8e916d84-6cfa-47f9-a42c-cc1cfef70993"
   },
   "outputs": [
    {
     "data": {
      "text/plain": [
       "(20, 32)"
      ]
     },
     "execution_count": 101,
     "metadata": {},
     "output_type": "execute_result"
    }
   ],
   "source": [
    "count_matrix.shape"
   ]
  },
  {
   "cell_type": "code",
   "execution_count": 102,
   "metadata": {
    "id": "pj5qjIP7eOWG"
   },
   "outputs": [],
   "source": [
    "from sklearn.metrics.pairwise import cosine_similarity\n",
    "\n",
    "cosine_sim2 = cosine_similarity(count_matrix, count_matrix)"
   ]
  },
  {
   "cell_type": "code",
   "execution_count": 103,
   "metadata": {
    "id": "orqqMIQLfBhf"
   },
   "outputs": [],
   "source": [
    "dataset = dataset.reset_index()\n",
    "indices = pd.Series(dataset.index, index=dataset['aTitle'])"
   ]
  },
  {
   "cell_type": "code",
   "execution_count": 112,
   "metadata": {},
   "outputs": [
    {
     "ename": "IndentationError",
     "evalue": "expected an indented block (<ipython-input-112-d99060b486c1>, line 3)",
     "output_type": "error",
     "traceback": [
      "\u001b[0;36m  File \u001b[0;32m\"<ipython-input-112-d99060b486c1>\"\u001b[0;36m, line \u001b[0;32m3\u001b[0m\n\u001b[0;31m    idx = indices[title] #get index of song asked\u001b[0m\n\u001b[0m    ^\u001b[0m\n\u001b[0;31mIndentationError\u001b[0m\u001b[0;31m:\u001b[0m expected an indented block\n"
     ]
    }
   ],
   "source": [
    "class model:\n",
    "    def get_recommendations(title, cosine_sim=cosine_sim2):\n",
    "        idx = indices[title] #get index of song asked\n",
    "    similarity_score = list(enumerate(cosine_sim[idx]))#similarity score\n",
    "    similarity_score = sorted(similarity_score, key=lambda x: x[1], reverse=True)\n",
    "    similarity_score = similarity_score[1:6]# 5 similiar songs \n",
    "    songindex = [i[0] for i in similarity_score] #songs index\n",
    "    return dataset['aTitle'].iloc[songindex]#top 5 songs\n",
    "    "
   ]
  },
  {
   "cell_type": "code",
   "execution_count": 104,
   "metadata": {
    "id": "GOhgQfhRF6us"
   },
   "outputs": [],
   "source": [
    "\n"
   ]
  },
  {
   "cell_type": "code",
   "execution_count": 107,
   "metadata": {
    "colab": {
     "base_uri": "https://localhost:8080/"
    },
    "id": "cgdmy-UfGbIH",
    "outputId": "e1b2c7ee-b63e-4522-cb71-abdb74383fa7"
   },
   "outputs": [
    {
     "data": {
      "text/plain": [
       "16              Sucker\n",
       "9      Blinding Lights\n",
       "12           Adore You\n",
       "14    Watermelon Sugar\n",
       "1              ROXANNE\n",
       "Name: aTitle, dtype: object"
      ]
     },
     "execution_count": 107,
     "metadata": {},
     "output_type": "execute_result"
    }
   ],
   "source": [
    "get_recommendations('Dance Monkey', cosine_sim2)"
   ]
  },
  {
   "cell_type": "code",
   "execution_count": 108,
   "metadata": {
    "id": "LITRXH6PHgUt"
   },
   "outputs": [],
   "source": [
    "import pickle"
   ]
  },
  {
   "cell_type": "code",
   "execution_count": 111,
   "metadata": {},
   "outputs": [],
   "source": [
    "file = open('recommendation.pkl','wb')\n",
    "pickle.dump(get_recommendations,file)"
   ]
  }
 ],
 "metadata": {
  "colab": {
   "authorship_tag": "ABX9TyMMekrSBUUa7eHuDF02jcsL",
   "collapsed_sections": [],
   "include_colab_link": true,
   "name": "Recommender1.ipynb",
   "provenance": []
  },
  "kernelspec": {
   "display_name": "Python 3",
   "language": "python",
   "name": "python3"
  },
  "language_info": {
   "codemirror_mode": {
    "name": "ipython",
    "version": 3
   },
   "file_extension": ".py",
   "mimetype": "text/x-python",
   "name": "python",
   "nbconvert_exporter": "python",
   "pygments_lexer": "ipython3",
   "version": "3.8.8"
  }
 },
 "nbformat": 4,
 "nbformat_minor": 1
}
